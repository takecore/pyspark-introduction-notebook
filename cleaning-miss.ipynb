{
 "cells": [
  {
   "cell_type": "code",
   "execution_count": 1,
   "id": "f2af0248",
   "metadata": {},
   "outputs": [],
   "source": [
    "# 欠落したデータの対処\n",
    "\n",
    "# 欠落に対する最も簡単な方法は、そうしてもデータに問題が生じない場合に、欠落を含むレコード全体を削除すること。\n",
    "# 行を削除した後に残ったデータセットが非常に小さくなっていたり、データサイズが50%以下になってしまったりした場合、\n",
    "# どういた列が最も欠落しているから調べ、それらの列を丸ごと削除するという選択肢もある。\n",
    "\n",
    "# 欠落値があるデータを扱うもう一つの方法は、None となっているところに何らかの値を補うこと。\n",
    "# これはデータの種類によっていくつかの選択肢がある。\n",
    "\n",
    "# データが論理値の場合、第三の分類として Missing を加えることでカテゴリ値にする。\n",
    "# データがもともとカテゴリ値の場合、Missing を加えることで単にカテゴリ値を増やす。\n",
    "# 順序や数値のデータの場合、平均値や中央値、あるいはその他の事前に定義された値\n",
    "#（たとえばデータの分布の様子に応じて25パーセンタイルや75パーセンタイルの値など）を補う"
   ]
  },
  {
   "cell_type": "code",
   "execution_count": 2,
   "id": "6c2120de",
   "metadata": {},
   "outputs": [],
   "source": [
    "# 行について分析した場合\n",
    "# ID3 の行が持っている有益な情報は height だけ\n",
    "# ID6 の行では欠けている値は age だけ\n",
    "\n",
    "# 列について分析した場合\n",
    "# income 列は、公開するにはきわめて個人的な内容であることから、ほとんどの値が欠落している\n",
    "# weight と gender 列で欠落している値はそれぞれ一つ\n",
    "# age 列には2つの値が欠落している\n",
    "df = spark.createDataFrame([\n",
    "    (1, 143.5, 5.6, 28, 'M', 100000),\n",
    "    (2, 167.2, 5.4, 45, 'M', None),\n",
    "    (3, None, 5.2, None, None, None),\n",
    "    (4, 144.5, 5.9, 33, 'M', None),\n",
    "    (5, 133.2, 5.7, 54, 'F', None),\n",
    "    (6, 124.1, 5.2, None, 'F', None),\n",
    "    (7, 129.2, 5.3, 42, 'M', 76000),\n",
    "], ['id', 'weight', 'height', 'age', 'gender', 'income'])"
   ]
  },
  {
   "cell_type": "code",
   "execution_count": 3,
   "id": "4317ff12",
   "metadata": {},
   "outputs": [
    {
     "data": {
      "text/plain": [
       "[(1, 0), (2, 1), (3, 4), (4, 1), (5, 1), (6, 2), (7, 0)]"
      ]
     },
     "execution_count": 3,
     "metadata": {},
     "output_type": "execute_result"
    }
   ],
   "source": [
    "# 行ごとの欠落値の数を知る\n",
    "df.rdd.map(\n",
    "    lambda row: (row['id'], sum(column == None for column in row))\n",
    ").collect()\n",
    "# Out を見ると ID3 の行では4つの値が欠落していることが確認できる\n",
    "# どの値が欠けているのか調べて列ごとの欠落値の数を数え、\n",
    "# そうした値をまとめて削除するのか、何らかの値を補うのか判断する"
   ]
  },
  {
   "cell_type": "code",
   "execution_count": 4,
   "id": "93331b67",
   "metadata": {},
   "outputs": [
    {
     "name": "stdout",
     "output_type": "stream",
     "text": [
      "+----------+------------------+--------------+------------------+------------------+------------------+\n",
      "|id_missing|    weight_missing|height_missing|       age_missing|    gender_missing|    income_missing|\n",
      "+----------+------------------+--------------+------------------+------------------+------------------+\n",
      "|       0.0|0.1428571428571429|           0.0|0.2857142857142857|0.1428571428571429|0.7142857142857143|\n",
      "+----------+------------------+--------------+------------------+------------------+------------------+\n",
      "\n"
     ]
    }
   ],
   "source": [
    "# 列ごとの欠落値のパーセンテージを調べる\n",
    "import pyspark.sql.functions as fn\n",
    "\n",
    "expressions = [\n",
    "    (1 - (fn.count(column) / fn.count('*'))).alias(column + '_missing')\n",
    "    for column in df.columns\n",
    "]\n",
    "df.agg(*expressions).show()"
   ]
  },
  {
   "cell_type": "code",
   "execution_count": 5,
   "id": "eb680ae4",
   "metadata": {},
   "outputs": [],
   "source": [
    "# income 列はほとんどの値が欠落しているので削除とする\n",
    "df = df.select([\n",
    "    column for column in df.columns if column != 'income'\n",
    "])"
   ]
  },
  {
   "cell_type": "code",
   "execution_count": 7,
   "id": "3da7664c",
   "metadata": {},
   "outputs": [
    {
     "name": "stdout",
     "output_type": "stream",
     "text": [
      "+---+------+------+----+------+\n",
      "| id|weight|height| age|gender|\n",
      "+---+------+------+----+------+\n",
      "|  1| 143.5|   5.6|  28|     M|\n",
      "|  2| 167.2|   5.4|  45|     M|\n",
      "|  4| 144.5|   5.9|  33|     M|\n",
      "|  5| 133.2|   5.7|  54|     F|\n",
      "|  6| 124.1|   5.2|null|     F|\n",
      "|  7| 129.2|   5.3|  42|     M|\n",
      "+---+------+------+----+------+\n",
      "\n"
     ]
    }
   ],
   "source": [
    "# 閾値を超える欠落数の行を削除する .dropna()\n",
    "# ID3 は欠落数3 なので削除されない\n",
    "df.dropna(thresh=3).show()"
   ]
  },
  {
   "cell_type": "code",
   "execution_count": 17,
   "id": "c1944918",
   "metadata": {},
   "outputs": [
    {
     "name": "stdout",
     "output_type": "stream",
     "text": [
      "+---+------------------+------+---+-------+\n",
      "| id|            weight|height|age| gender|\n",
      "+---+------------------+------+---+-------+\n",
      "|  1|             143.5|   5.6| 28|      M|\n",
      "|  2|             167.2|   5.4| 45|      M|\n",
      "|  3|140.28333333333333|   5.2| 40|missing|\n",
      "|  4|             144.5|   5.9| 33|      M|\n",
      "|  5|             133.2|   5.7| 54|      F|\n",
      "|  6|             124.1|   5.2| 40|      F|\n",
      "|  7|             129.2|   5.3| 42|      M|\n",
      "+---+------------------+------+---+-------+\n",
      "\n"
     ]
    }
   ],
   "source": [
    "# 欠落値を補う\n",
    "# 数値はデータ全体の平均値で、文字列は missing で補う\n",
    "# .toPandas() は RDD に対して .collect() と同様の動作をする\n",
    "# ワーカーからすべての情報を収集しドライバに持ってくる。\n",
    "# そのため 1000 * 1000 のようなデータになると速度問題が生じてくる。\n",
    "\n",
    "means = df.agg(*[\n",
    "    fn.mean(column).alias(column)\n",
    "    for column in df.columns if column != 'gender'\n",
    "]).toPandas().to_dict('records')[0]\n",
    "means['gender'] = 'missing'\n",
    "df.fillna(means).show()"
   ]
  }
 ],
 "metadata": {
  "kernelspec": {
   "display_name": "Python 3",
   "language": "python",
   "name": "python3"
  },
  "language_info": {
   "codemirror_mode": {
    "name": "ipython",
    "version": 3
   },
   "file_extension": ".py",
   "mimetype": "text/x-python",
   "name": "python",
   "nbconvert_exporter": "python",
   "pygments_lexer": "ipython3",
   "version": "3.7.10"
  }
 },
 "nbformat": 4,
 "nbformat_minor": 5
}
