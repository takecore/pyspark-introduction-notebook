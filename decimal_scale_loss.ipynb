{
 "cells": [
  {
   "cell_type": "code",
   "execution_count": 1,
   "id": "c2433693",
   "metadata": {},
   "outputs": [
    {
     "name": "stderr",
     "output_type": "stream",
     "text": [
      "WARNING: An illegal reflective access operation has occurred\n",
      "WARNING: Illegal reflective access by org.apache.spark.unsafe.Platform (file:/usr/local/spark-3.2.0-bin-hadoop3.2/jars/spark-unsafe_2.12-3.2.0.jar) to constructor java.nio.DirectByteBuffer(long,int)\n",
      "WARNING: Please consider reporting this to the maintainers of org.apache.spark.unsafe.Platform\n",
      "WARNING: Use --illegal-access=warn to enable warnings of further illegal reflective access operations\n",
      "WARNING: All illegal access operations will be denied in a future release\n",
      "Using Spark's default log4j profile: org/apache/spark/log4j-defaults.properties\n",
      "Setting default log level to \"WARN\".\n",
      "To adjust logging level use sc.setLogLevel(newLevel). For SparkR, use setLogLevel(newLevel).\n",
      "21/11/18 08:59:18 WARN NativeCodeLoader: Unable to load native-hadoop library for your platform... using builtin-java classes where applicable\n"
     ]
    }
   ],
   "source": [
    "from decimal import Decimal\n",
    "\n",
    "from pyspark.sql import SparkSession\n",
    "from pyspark.sql.types import (\n",
    "    DecimalType,\n",
    "    StructField,\n",
    "    StructType,\n",
    ")\n",
    "\n",
    "spark = SparkSession.builder.appName(\"example\") .getOrCreate()\n",
    "\n",
    "data = [\n",
    "    (Decimal('1.387'), Decimal('0'), Decimal('0'), Decimal('0.25'), Decimal('0.03'), Decimal('1.13'), Decimal('1')),\n",
    "]\n",
    "schema = StructType([\n",
    "    # StructField require name, dataType, nullable\n",
    "    StructField('a', DecimalType(7, 4), True),\n",
    "    StructField('b', DecimalType(8, 3), True),\n",
    "    StructField('c', DecimalType(15, 2), True),\n",
    "    StructField('d', DecimalType(15, 2), True),\n",
    "    StructField('e', DecimalType(15, 2), True),\n",
    "    StructField('f', DecimalType(15, 2), True),\n",
    "    StructField('g', DecimalType(15, 2), True),\n",
    "])\n",
    "df = spark.createDataFrame(data, schema)"
   ]
  },
  {
   "cell_type": "code",
   "execution_count": 2,
   "id": "74d4ec5b",
   "metadata": {},
   "outputs": [
    {
     "name": "stdout",
     "output_type": "stream",
     "text": [
      "root\n",
      " |-- a: decimal(7,4) (nullable = true)\n",
      " |-- b: decimal(8,3) (nullable = true)\n",
      " |-- c: decimal(15,2) (nullable = true)\n",
      " |-- d: decimal(15,2) (nullable = true)\n",
      " |-- e: decimal(15,2) (nullable = true)\n",
      " |-- f: decimal(15,2) (nullable = true)\n",
      " |-- g: decimal(15,2) (nullable = true)\n",
      " |-- hoge: decimal(38,6) (nullable = true)\n",
      "\n"
     ]
    },
    {
     "name": "stderr",
     "output_type": "stream",
     "text": [
      "\r",
      "[Stage 0:>                                                          (0 + 0) / 1]\r",
      "\r",
      "[Stage 0:>                                                          (0 + 1) / 1]\r"
     ]
    },
    {
     "name": "stdout",
     "output_type": "stream",
     "text": [
      "+--------+\n",
      "|    hoge|\n",
      "+--------+\n",
      "|1.140219|\n",
      "+--------+\n",
      "\n",
      "1.140218025\n"
     ]
    },
    {
     "name": "stderr",
     "output_type": "stream",
     "text": [
      "\r",
      "                                                                                \r"
     ]
    }
   ],
   "source": [
    "df = df.withColumn(\n",
    "    \"hoge\",\n",
    "    df.a\n",
    "    * (1 - df.b)\n",
    "    * (1 - df.c)\n",
    "    * (1 - df.d)\n",
    "    * (1 - df.e)\n",
    "    * df.f\n",
    "    * df.g\n",
    "#     ((((df.a\n",
    "#     * (1 - df.b)\n",
    "#     * (1 - df.c)\n",
    "#     * (1 - df.d)).cast(DecimalType(13, 10))\n",
    "#     * (1 - df.e)).cast(DecimalType(13, 10))\n",
    "#     * df.f).cast(DecimalType(13, 10))\n",
    "#     * df.g).cast(DecimalType(13, 10))\n",
    ")\n",
    "df.printSchema()\n",
    "df.select(\"hoge\").show()\n",
    "\n",
    "print(\n",
    "    data[0][0]\n",
    "    * (Decimal(1) - data[0][1])\n",
    "    * (Decimal(1) - data[0][2])\n",
    "    * (Decimal(1) - data[0][3])\n",
    "    * (Decimal(1) - data[0][4])\n",
    "    * data[0][5]\n",
    "    * data[0][6]\n",
    ")\n"
   ]
  }
 ],
 "metadata": {
  "kernelspec": {
   "display_name": "Python 3 (ipykernel)",
   "language": "python",
   "name": "python3"
  },
  "language_info": {
   "codemirror_mode": {
    "name": "ipython",
    "version": 3
   },
   "file_extension": ".py",
   "mimetype": "text/x-python",
   "name": "python",
   "nbconvert_exporter": "python",
   "pygments_lexer": "ipython3",
   "version": "3.9.7"
  }
 },
 "nbformat": 4,
 "nbformat_minor": 5
}
