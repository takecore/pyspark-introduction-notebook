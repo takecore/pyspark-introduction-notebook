{
 "cells": [
  {
   "cell_type": "code",
   "execution_count": 1,
   "id": "d7332878",
   "metadata": {},
   "outputs": [
    {
     "name": "stdout",
     "output_type": "stream",
     "text": [
      "+---+------+------+---+\n",
      "| id|weight|height|age|\n",
      "+---+------+------+---+\n",
      "|  1| 143.5|   5.3| 28|\n",
      "|  2| 154.2|   5.5| 45|\n",
      "|  3| 342.3|   5.1| 99|\n",
      "|  4| 144.5|   5.5| 33|\n",
      "|  5| 133.2|   5.4| 54|\n",
      "|  6| 124.1|   5.1| 21|\n",
      "|  7| 129.2|   5.3| 42|\n",
      "+---+------+------+---+\n",
      "\n"
     ]
    }
   ],
   "source": [
    "# 外れ値は、それ以外のデータの分布から極端に逸脱しているデータ\n",
    "# この極端の定義はさまざま\n",
    "\n",
    "df = spark.createDataFrame([\n",
    "    (1, 143.5, 5.3, 28),\n",
    "    (2, 154.2, 5.5, 45),\n",
    "    (3, 342.3, 5.1, 99),\n",
    "    (4, 144.5, 5.5, 33),\n",
    "    (5, 133.2, 5.4, 54),\n",
    "    (6, 124.1, 5.1, 21),\n",
    "    (7, 129.2, 5.3, 42),\n",
    "], ['id', 'weight', 'height', 'age'])\n",
    "df.show()"
   ]
  },
  {
   "cell_type": "code",
   "execution_count": 2,
   "id": "2089d3be",
   "metadata": {},
   "outputs": [
    {
     "name": "stdout",
     "output_type": "stream",
     "text": [
      "[129.2, 154.2]\n",
      "[5.1, 5.5]\n",
      "[28.0, 54.0]\n"
     ]
    },
    {
     "data": {
      "text/plain": [
       "{'weight': [91.69999999999999, 191.7],\n",
       " 'height': [4.499999999999999, 6.1000000000000005],\n",
       " 'age': [-11.0, 93.0]}"
      ]
     },
     "execution_count": 2,
     "metadata": {},
     "output_type": "execute_result"
    }
   ],
   "source": [
    "# 第一分位点および第三分位点からIQR(四分位範囲)の1.5倍離れた値を除去する方法\n",
    "\n",
    "cols = ['weight', 'height', 'age']\n",
    "bounds = {}\n",
    "for col in cols:\n",
    "    probabilities = [0.25, 0.75]\n",
    "    relativeError = 0.05\n",
    "    quantiles = df.approxQuantile(col, probabilities, relativeError)\n",
    "    print(quantiles)\n",
    "    \n",
    "    IQR = quantiles[1] - quantiles[0]\n",
    "    lowerRange = quantiles[0] - 1.5 * IQR\n",
    "    upperRange = quantiles[1] + 1.5 * IQR\n",
    "    \n",
    "    bounds[col] = [lowerRange, upperRange]\n",
    "bounds"
   ]
  },
  {
   "cell_type": "code",
   "execution_count": 4,
   "id": "df5a1e4b",
   "metadata": {},
   "outputs": [
    {
     "name": "stdout",
     "output_type": "stream",
     "text": [
      "+---+--------+--------+-----+\n",
      "| id|weight_o|height_o|age_o|\n",
      "+---+--------+--------+-----+\n",
      "|  1|   false|   false|false|\n",
      "|  2|   false|   false|false|\n",
      "|  3|    true|   false| true|\n",
      "|  4|   false|   false|false|\n",
      "|  5|   false|   false|false|\n",
      "|  6|   false|   false|false|\n",
      "|  7|   false|   false|false|\n",
      "+---+--------+--------+-----+\n",
      "\n"
     ]
    }
   ],
   "source": [
    "expressions = ['id'] + [\n",
    "    (\n",
    "        (df[col] < bounds[col][0]) |\n",
    "        (df[col] > bounds[col][1])\n",
    "    ).alias(col + '_o')\n",
    "    for col in cols\n",
    "]\n",
    "outliers = df.select(*expressions)\n",
    "outliers.show()"
   ]
  },
  {
   "cell_type": "code",
   "execution_count": 5,
   "id": "c90f7fb4",
   "metadata": {},
   "outputs": [
    {
     "name": "stdout",
     "output_type": "stream",
     "text": [
      "+---+------+\n",
      "| id|weight|\n",
      "+---+------+\n",
      "|  3| 342.3|\n",
      "+---+------+\n",
      "\n",
      "+---+---+\n",
      "| id|age|\n",
      "+---+---+\n",
      "|  3| 99|\n",
      "+---+---+\n",
      "\n"
     ]
    }
   ],
   "source": [
    "df_outliers = df.join(outliers, on='id')\n",
    "df_outliers.filter('weight_o').select('id', 'weight').show()\n",
    "df_outliers.filter('age_o').select('id', 'age').show()"
   ]
  }
 ],
 "metadata": {
  "kernelspec": {
   "display_name": "Python 3",
   "language": "python",
   "name": "python3"
  },
  "language_info": {
   "codemirror_mode": {
    "name": "ipython",
    "version": 3
   },
   "file_extension": ".py",
   "mimetype": "text/x-python",
   "name": "python",
   "nbconvert_exporter": "python",
   "pygments_lexer": "ipython3",
   "version": "3.7.10"
  }
 },
 "nbformat": 4,
 "nbformat_minor": 5
}
