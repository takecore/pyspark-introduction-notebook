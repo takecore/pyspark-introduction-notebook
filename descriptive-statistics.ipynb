{
 "cells": [
  {
   "cell_type": "code",
   "execution_count": 1,
   "id": "d222d4f3",
   "metadata": {},
   "outputs": [],
   "source": [
    "# p67\n",
    "# 記述統計とはデータセットに関する基本的な情報を示すもの\n",
    "# データセット中に実際に実在するデータ数、列の平均値や標準偏差、そして最小値や最大値といった値が含まれる。"
   ]
  },
  {
   "cell_type": "code",
   "execution_count": 2,
   "id": "ef5311ac",
   "metadata": {},
   "outputs": [
    {
     "name": "stdout",
     "output_type": "stream",
     "text": [
      "root\n",
      " |-- custID: integer (nullable = true)\n",
      " |-- gender: integer (nullable = true)\n",
      " |-- state: integer (nullable = true)\n",
      " |-- cardholder: integer (nullable = true)\n",
      " |-- balance: integer (nullable = true)\n",
      " |-- numTrans: integer (nullable = true)\n",
      " |-- numIntlTrans: integer (nullable = true)\n",
      " |-- creditLine: integer (nullable = true)\n",
      " |-- fraudRisk: integer (nullable = true)\n",
      "\n"
     ]
    }
   ],
   "source": [
    "from pyspark.sql.types import IntegerType, StructField, StructType\n",
    "\n",
    "rdd = sc.textFile('./data/ccFraud.csv')\n",
    "header = rdd.first()\n",
    "rdd = rdd.filter(lambda row: row != header) \\\n",
    "         .map(lambda row: [int(data) for data in row.split(',')])\n",
    "    \n",
    "fields = [\n",
    "    StructField(data[1:-1], IntegerType(), True)\n",
    "    for data in header.split(',')\n",
    "]\n",
    "schema = StructType(fields)\n",
    "df = spark.createDataFrame(rdd, schema)\n",
    "df.printSchema()"
   ]
  },
  {
   "cell_type": "code",
   "execution_count": 3,
   "id": "95f3a5d9",
   "metadata": {},
   "outputs": [
    {
     "name": "stdout",
     "output_type": "stream",
     "text": [
      "+------+-------+\n",
      "|gender|  count|\n",
      "+------+-------+\n",
      "|     1|6178231|\n",
      "|     2|3821769|\n",
      "+------+-------+\n",
      "\n"
     ]
    }
   ],
   "source": [
    "df.groupBy('gender').count().show()"
   ]
  },
  {
   "cell_type": "code",
   "execution_count": 5,
   "id": "2ccc9e3e",
   "metadata": {},
   "outputs": [
    {
     "name": "stdout",
     "output_type": "stream",
     "text": [
      "+-------+-----------------+------------------+-----------------+\n",
      "|summary|          balance|          numTrans|     numIntlTrans|\n",
      "+-------+-----------------+------------------+-----------------+\n",
      "|  count|         10000000|          10000000|         10000000|\n",
      "|   mean|     4109.9199193|        28.9351871|        4.0471899|\n",
      "| stddev|3996.847309737258|26.553781024523122|8.602970115863904|\n",
      "|    min|                0|                 0|                0|\n",
      "|    max|            41485|               100|               60|\n",
      "+-------+-----------------+------------------+-----------------+\n",
      "\n"
     ]
    }
   ],
   "source": [
    "numerical = ['balance', 'numTrans', 'numIntlTrans']\n",
    "desc = df.describe(numerical)\n",
    "desc.show()\n",
    "\n",
    "# わかること\n",
    "# すべての列の歪度は正になっている。最大値は平均値の数倍以上になっている。\n",
    "# 変動係数（標準偏差を算術平均で割った値）はきわめて高くなっている（1 に近いかそれ以上）。\n",
    "# これはデータが広く分布していることを表している"
   ]
  },
  {
   "cell_type": "code",
   "execution_count": 9,
   "id": "a68dd4a9",
   "metadata": {},
   "outputs": [
    {
     "name": "stdout",
     "output_type": "stream",
     "text": [
      "+------------------+\n",
      "| skewness(balance)|\n",
      "+------------------+\n",
      "|1.1818315552993839|\n",
      "+------------------+\n",
      "\n"
     ]
    }
   ],
   "source": [
    "# 歪度の確認\n",
    "\n",
    "# データが正規分布しているかどうかを確認する指標の一つ。\n",
    "# 分布の形状が左右対称かどうかの歪み具合を表す統計量で、\n",
    "# 歪度が0のときに正規分布しているとみなされる。\n",
    "# 歪度が0よりも大きいときは左に偏った分布\n",
    "# 0よりも小さいときは右に偏った分布であることを意味する。\n",
    "df.agg({'balance': 'skewness'}).show()"
   ]
  },
  {
   "cell_type": "code",
   "execution_count": 11,
   "id": "af0e0c9d",
   "metadata": {},
   "outputs": [
    {
     "data": {
      "text/plain": [
       "0.0004452314017265387"
      ]
     },
     "execution_count": 11,
     "metadata": {},
     "output_type": "execute_result"
    }
   ],
   "source": [
    "# 相関\n",
    "\n",
    "# ピアソン相関\n",
    "df.corr('balance', 'numTrans')"
   ]
  },
  {
   "cell_type": "code",
   "execution_count": 18,
   "id": "babc7a6b",
   "metadata": {},
   "outputs": [
    {
     "name": "stdout",
     "output_type": "stream",
     "text": [
      "pair is balance balance\n",
      "pair is balance numTrans\n",
      "pair is balance numIntlTrans\n",
      "pair is numTrans numTrans\n",
      "pair is numTrans numIntlTrans\n",
      "pair is numIntlTrans numIntlTrans\n"
     ]
    },
    {
     "data": {
      "text/plain": [
       "[[1.0, 0.0004452314017265386, 0.0002713991339817875],\n",
       " [None, 1.0, -0.00028057128198165544],\n",
       " [None, None, 1.0]]"
      ]
     },
     "execution_count": 18,
     "metadata": {},
     "output_type": "execute_result"
    }
   ],
   "source": [
    "# ペアワイズ相関\n",
    "\n",
    "numerical_length = len(numerical)\n",
    "corr = []\n",
    "for i in range(0, numerical_length):\n",
    "    tmp = [None] * i\n",
    "    for j in range(i, numerical_length):\n",
    "        print('pair is {} {}'.format(numerical[i], numerical[j]))\n",
    "        tmp.append(df.corr(numerical[i], numerical[j]))\n",
    "    corr.append(tmp)\n",
    "corr\n",
    "\n",
    "# 数値の列同士の相関がないことが読み取れるらしい\n",
    "# したがってこれらの列はモデル内で使用できるものと判断できると解釈できる"
   ]
  },
  {
   "cell_type": "code",
   "execution_count": 22,
   "id": "568c6c87",
   "metadata": {},
   "outputs": [],
   "source": [
    "# 可視化\n",
    "\n",
    "# jupyter で表示する用\n",
    "%matplotlib inline\n",
    "\n",
    "import matplotlib.pyplot as plt\n",
    "plt.style.use('ggplot')"
   ]
  },
  {
   "cell_type": "code",
   "execution_count": 35,
   "id": "ea7d004b",
   "metadata": {},
   "outputs": [
    {
     "name": "stdout",
     "output_type": "stream",
     "text": [
      "([0.0, 2074.25, 4148.5, 6222.75, 8297.0, 10371.25, 12445.5, 14519.75, 16594.0, 18668.25, 20742.5, 22816.75, 24891.0, 26965.25, 29039.5, 31113.75, 33188.0, 35262.25, 37336.5, 39410.75, 41485], [3640021, 2258778, 1718633, 1035019, 601524, 343461, 192766, 104486, 54517, 27570, 13117, 5805, 2650, 1103, 358, 127, 45, 15, 1, 4])\n"
     ]
    },
    {
     "data": {
      "text/plain": [
       "Text(0.5, 1.0, \"Histgram of 'balance'\")"
      ]
     },
     "execution_count": 35,
     "metadata": {},
     "output_type": "execute_result"
    },
    {
     "data": {
      "image/png": "[encoded data removed]",
      "text/plain": [
       "<Figure size 432x288 with 1 Axes>"
      ]
     },
     "metadata": {},
     "output_type": "display_data"
    }
   ],
   "source": [
    "# ヒストグラム\n",
    "\n",
    "# データの分布を可視化する\n",
    "# ヒストグラムを作成する方法は3つある\n",
    "\n",
    "# 1. ワーカーでデータを集計し、集計されたヒストグラムのリストをドライバに返させ、それぞれカウントする\n",
    "# 2. すべてのデータポイントをドライバにかえっさせ、プロットを行うライブラリのメソッドにあとは任せる\n",
    "# 3. データをサンプリングしてからドライバに返させ、プロットを行うライブラリのメソッドにあとは任せる\n",
    "\n",
    "# データセットの中の行数が数十億に及ぶ場合 2 の選択肢は無理がある。\n",
    "# 今回は 1 の方法をとる。\n",
    "\n",
    "histgram = df.select('balance').rdd.flatMap(lambda row: row).histogram(20)\n",
    "print(histgram)\n",
    "\n",
    "data = {\n",
    "    'bing': histgram[0][:-1],\n",
    "    'freq': histgram[1],\n",
    "}\n",
    "plt.bar(data['bing'], data['freq'], width=2000)\n",
    "plt.title(\"Histgram of 'balance'\")"
   ]
  },
  {
   "cell_type": "code",
   "execution_count": 48,
   "id": "c9708314",
   "metadata": {},
   "outputs": [
    {
     "data": {
      "text/html": [
       "\n",
       "    <div class=\"bk-root\">\n",
       "        <a href=\"https://bokeh.org\" target=\"_blank\" class=\"bk-logo bk-logo-small bk-logo-notebook\"></a>\n",
       "        <span id=\"1253\">Loading BokehJS ...</span>\n",
       "    </div>"
      ]
     },
     "metadata": {},
     "output_type": "display_data"
    },
    {
     "data": {
      "application/javascript": [
       "\n",
       "(function(root) {\n",
       "  function now() {\n",
       "    return new Date();\n",
       "  }\n",
       "\n",
       "  var force = true;\n",
       "\n",
       "  if (typeof root._bokeh_onload_callbacks === \"undefined\" || force === true) {\n",
       "    root._bokeh_onload_callbacks = [];\n",
       "    root._bokeh_is_loading = undefined;\n",
       "  }\n",
       "\n",
       "  var JS_MIME_TYPE = 'application/javascript';\n",
       "  var HTML_MIME_TYPE = 'text/html';\n",
       "  var EXEC_MIME_TYPE = 'application/vnd.bokehjs_exec.v0+json';\n",
       "  var CLASS_NAME = 'output_bokeh rendered_html';\n",
       "\n",
       "  /**\n",
       "   * Render data to the DOM node\n",
       "   */\n",
       "  function render(props, node) {\n",
       "    var script = document.createElement(\"script\");\n",
       "    node.appendChild(script);\n",
       "  }\n",
       "\n",
       "  /**\n",
       "   * Handle when an output is cleared or removed\n",
       "   */\n",
       "  function handleClearOutput(event, handle) {\n",
       "    var cell = handle.cell;\n",
       "\n",
       "    var id = cell.output_area._bokeh_element_id;\n",
       "    var server_id = cell.output_area._bokeh_server_id;\n",
       "    // Clean up Bokeh references\n",
       "    if (id != null && id in Bokeh.index) {\n",
       "      Bokeh.index[id].model.document.clear();\n",
       "      delete Bokeh.index[id];\n",
       "    }\n",
       "\n",
       "    if (server_id !== undefined) {\n",
       "      // Clean up Bokeh references\n",
       "      var cmd = \"from bokeh.io.state import curstate; print(curstate().uuid_to_server['\" + server_id + \"'].get_sessions()[0].document.roots[0]._id)\";\n",
       "      cell.notebook.kernel.execute(cmd, {\n",
       "        iopub: {\n",
       "          output: function(msg) {\n",
       "            var id = msg.content.text.trim();\n",
       "            if (id in Bokeh.index) {\n",
       "              Bokeh.index[id].model.document.clear();\n",
       "              delete Bokeh.index[id];\n",
       "            }\n",
       "          }\n",
       "        }\n",
       "      });\n",
       "      // Destroy server and session\n",
       "      var cmd = \"import bokeh.io.notebook as ion; ion.destroy_server('\" + server_id + \"')\";\n",
       "      cell.notebook.kernel.execute(cmd);\n",
       "    }\n",
       "  }\n",
       "\n",
       "  /**\n",
       "   * Handle when a new output is added\n",
       "   */\n",
       "  function handleAddOutput(event, handle) {\n",
       "    var output_area = handle.output_area;\n",
       "    var output = handle.output;\n",
       "\n",
       "    // limit handleAddOutput to display_data with EXEC_MIME_TYPE content only\n",
       "    if ((output.output_type != \"display_data\") || (!Object.prototype.hasOwnProperty.call(output.data, EXEC_MIME_TYPE))) {\n",
       "      return\n",
       "    }\n",
       "\n",
       "    var toinsert = output_area.element.find(\".\" + CLASS_NAME.split(' ')[0]);\n",
       "\n",
       "    if (output.metadata[EXEC_MIME_TYPE][\"id\"] !== undefined) {\n",
       "      toinsert[toinsert.length - 1].firstChild.textContent = output.data[JS_MIME_TYPE];\n",
       "      // store reference to embed id on output_area\n",
       "      output_area._bokeh_element_id = output.metadata[EXEC_MIME_TYPE][\"id\"];\n",
       "    }\n",
       "    if (output.metadata[EXEC_MIME_TYPE][\"server_id\"] !== undefined) {\n",
       "      var bk_div = document.createElement(\"div\");\n",
       "      bk_div.innerHTML = output.data[HTML_MIME_TYPE];\n",
       "      var script_attrs = bk_div.children[0].attributes;\n",
       "      for (var i = 0; i < script_attrs.length; i++) {\n",
       "        toinsert[toinsert.length - 1].firstChild.setAttribute(script_attrs[i].name, script_attrs[i].value);\n",
       "        toinsert[toinsert.length - 1].firstChild.textContent = bk_div.children[0].textContent\n",
       "      }\n",
       "      // store reference to server id on output_area\n",
       "      output_area._bokeh_server_id = output.metadata[EXEC_MIME_TYPE][\"server_id\"];\n",
       "    }\n",
       "  }\n",
       "\n",
       "  function register_renderer(events, OutputArea) {\n",
       "\n",
       "    function append_mime(data, metadata, element) {\n",
       "      // create a DOM node to render to\n",
       "      var toinsert = this.create_output_subarea(\n",
       "        metadata,\n",
       "        CLASS_NAME,\n",
       "        EXEC_MIME_TYPE\n",
       "      );\n",
       "      this.keyboard_manager.register_events(toinsert);\n",
       "      // Render to node\n",
       "      var props = {data: data, metadata: metadata[EXEC_MIME_TYPE]};\n",
       "      render(props, toinsert[toinsert.length - 1]);\n",
       "      element.append(toinsert);\n",
       "      return toinsert\n",
       "    }\n",
       "\n",
       "    /* Handle when an output is cleared or removed */\n",
       "    events.on('clear_output.CodeCell', handleClearOutput);\n",
       "    events.on('delete.Cell', handleClearOutput);\n",
       "\n",
       "    /* Handle when a new output is added */\n",
       "    events.on('output_added.OutputArea', handleAddOutput);\n",
       "\n",
       "    /**\n",
       "     * Register the mime type and append_mime function with output_area\n",
       "     */\n",
       "    OutputArea.prototype.register_mime_type(EXEC_MIME_TYPE, append_mime, {\n",
       "      /* Is output safe? */\n",
       "      safe: true,\n",
       "      /* Index of renderer in `output_area.display_order` */\n",
       "      index: 0\n",
       "    });\n",
       "  }\n",
       "\n",
       "  // register the mime type if in Jupyter Notebook environment and previously unregistered\n",
       "  if (root.Jupyter !== undefined) {\n",
       "    var events = require('base/js/events');\n",
       "    var OutputArea = require('notebook/js/outputarea').OutputArea;\n",
       "\n",
       "    if (OutputArea.prototype.mime_types().indexOf(EXEC_MIME_TYPE) == -1) {\n",
       "      register_renderer(events, OutputArea);\n",
       "    }\n",
       "  }\n",
       "\n",
       "  \n",
       "  if (typeof (root._bokeh_timeout) === \"undefined\" || force === true) {\n",
       "    root._bokeh_timeout = Date.now() + 5000;\n",
       "    root._bokeh_failed_load = false;\n",
       "  }\n",
       "\n",
       "  var NB_LOAD_WARNING = {'data': {'text/html':\n",
       "     \"<div style='background-color: #fdd'>\\n\"+\n",
       "     \"<p>\\n\"+\n",
       "     \"BokehJS does not appear to have successfully loaded. If loading BokehJS from CDN, this \\n\"+\n",
       "     \"may be due to a slow or bad network connection. Possible fixes:\\n\"+\n",
       "     \"</p>\\n\"+\n",
       "     \"<ul>\\n\"+\n",
       "     \"<li>re-rerun `output_notebook()` to attempt to load from CDN again, or</li>\\n\"+\n",
       "     \"<li>use INLINE resources instead, as so:</li>\\n\"+\n",
       "     \"</ul>\\n\"+\n",
       "     \"<code>\\n\"+\n",
       "     \"from bokeh.resources import INLINE\\n\"+\n",
       "     \"output_notebook(resources=INLINE)\\n\"+\n",
       "     \"</code>\\n\"+\n",
       "     \"</div>\"}};\n",
       "\n",
       "  function display_loaded() {\n",
       "    var el = document.getElementById(\"1253\");\n",
       "    if (el != null) {\n",
       "      el.textContent = \"BokehJS is loading...\";\n",
       "    }\n",
       "    if (root.Bokeh !== undefined) {\n",
       "      if (el != null) {\n",
       "        el.textContent = \"BokehJS \" + root.Bokeh.version + \" successfully loaded.\";\n",
       "      }\n",
       "    } else if (Date.now() < root._bokeh_timeout) {\n",
       "      setTimeout(display_loaded, 100)\n",
       "    }\n",
       "  }\n",
       "\n",
       "\n",
       "  function run_callbacks() {\n",
       "    try {\n",
       "      root._bokeh_onload_callbacks.forEach(function(callback) {\n",
       "        if (callback != null)\n",
       "          callback();\n",
       "      });\n",
       "    } finally {\n",
       "      delete root._bokeh_onload_callbacks\n",
       "    }\n",
       "    console.debug(\"Bokeh: all callbacks have finished\");\n",
       "  }\n",
       "\n",
       "  function load_libs(css_urls, js_urls, callback) {\n",
       "    if (css_urls == null) css_urls = [];\n",
       "    if (js_urls == null) js_urls = [];\n",
       "\n",
       "    root._bokeh_onload_callbacks.push(callback);\n",
       "    if (root._bokeh_is_loading > 0) {\n",
       "      console.debug(\"Bokeh: BokehJS is being loaded, scheduling callback at\", now());\n",
       "      return null;\n",
       "    }\n",
       "    if (js_urls == null || js_urls.length === 0) {\n",
       "      run_callbacks();\n",
       "      return null;\n",
       "    }\n",
       "    console.debug(\"Bokeh: BokehJS not loaded, scheduling load and callback at\", now());\n",
       "    root._bokeh_is_loading = css_urls.length + js_urls.length;\n",
       "\n",
       "    function on_load() {\n",
       "      root._bokeh_is_loading--;\n",
       "      if (root._bokeh_is_loading === 0) {\n",
       "        console.debug(\"Bokeh: all BokehJS libraries/stylesheets loaded\");\n",
       "        run_callbacks()\n",
       "      }\n",
       "    }\n",
       "\n",
       "    function on_error(url) {\n",
       "      console.error(\"failed to load \" + url);\n",
       "    }\n",
       "\n",
       "    for (let i = 0; i < css_urls.length; i++) {\n",
       "      const url = css_urls[i];\n",
       "      const element = document.createElement(\"link\");\n",
       "      element.onload = on_load;\n",
       "      element.onerror = on_error.bind(null, url);\n",
       "      element.rel = \"stylesheet\";\n",
       "      element.type = \"text/css\";\n",
       "      element.href = url;\n",
       "      console.debug(\"Bokeh: injecting link tag for BokehJS stylesheet: \", url);\n",
       "      document.body.appendChild(element);\n",
       "    }\n",
       "\n",
       "    const hashes = {\"https://cdn.bokeh.org/bokeh/release/bokeh-2.3.2.min.js\": \"XypntL49z55iwGVUW4qsEu83zKL3XEcz0MjuGOQ9SlaaQ68X/g+k1FcioZi7oQAc\", \"https://cdn.bokeh.org/bokeh/release/bokeh-tables-2.3.2.min.js\": \"bEsM86IHGDTLCS0Zod8a8WM6Y4+lafAL/eSiyQcuPzinmWNgNO2/olUF0Z2Dkn5i\", \"https://cdn.bokeh.org/bokeh/release/bokeh-widgets-2.3.2.min.js\": \"TX0gSQTdXTTeScqxj6PVQxTiRW8DOoGVwinyi1D3kxv7wuxQ02XkOxv0xwiypcAH\"};\n",
       "\n",
       "    for (let i = 0; i < js_urls.length; i++) {\n",
       "      const url = js_urls[i];\n",
       "      const element = document.createElement('script');\n",
       "      element.onload = on_load;\n",
       "      element.onerror = on_error.bind(null, url);\n",
       "      element.async = false;\n",
       "      element.src = url;\n",
       "      if (url in hashes) {\n",
       "        element.crossOrigin = \"anonymous\";\n",
       "        element.integrity = \"sha384-\" + hashes[url];\n",
       "      }\n",
       "      console.debug(\"Bokeh: injecting script tag for BokehJS library: \", url);\n",
       "      document.head.appendChild(element);\n",
       "    }\n",
       "  };\n",
       "\n",
       "  function inject_raw_css(css) {\n",
       "    const element = document.createElement(\"style\");\n",
       "    element.appendChild(document.createTextNode(css));\n",
       "    document.body.appendChild(element);\n",
       "  }\n",
       "\n",
       "  \n",
       "  var js_urls = [\"https://cdn.bokeh.org/bokeh/release/bokeh-2.3.2.min.js\", \"https://cdn.bokeh.org/bokeh/release/bokeh-widgets-2.3.2.min.js\", \"https://cdn.bokeh.org/bokeh/release/bokeh-tables-2.3.2.min.js\"];\n",
       "  var css_urls = [];\n",
       "  \n",
       "\n",
       "  var inline_js = [\n",
       "    function(Bokeh) {\n",
       "      Bokeh.set_log_level(\"info\");\n",
       "    },\n",
       "    function(Bokeh) {\n",
       "    \n",
       "    \n",
       "    }\n",
       "  ];\n",
       "\n",
       "  function run_inline_js() {\n",
       "    \n",
       "    if (root.Bokeh !== undefined || force === true) {\n",
       "      \n",
       "    for (var i = 0; i < inline_js.length; i++) {\n",
       "      inline_js[i].call(root, root.Bokeh);\n",
       "    }\n",
       "    if (force === true) {\n",
       "        display_loaded();\n",
       "      }} else if (Date.now() < root._bokeh_timeout) {\n",
       "      setTimeout(run_inline_js, 100);\n",
       "    } else if (!root._bokeh_failed_load) {\n",
       "      console.log(\"Bokeh: BokehJS failed to load within specified timeout.\");\n",
       "      root._bokeh_failed_load = true;\n",
       "    } else if (force !== true) {\n",
       "      var cell = $(document.getElementById(\"1253\")).parents('.cell').data().cell;\n",
       "      cell.output_area.append_execute_result(NB_LOAD_WARNING)\n",
       "    }\n",
       "\n",
       "  }\n",
       "\n",
       "  if (root._bokeh_is_loading === 0) {\n",
       "    console.debug(\"Bokeh: BokehJS loaded, going straight to plotting\");\n",
       "    run_inline_js();\n",
       "  } else {\n",
       "    load_libs(css_urls, js_urls, function() {\n",
       "      console.debug(\"Bokeh: BokehJS plotting callback run at\", now());\n",
       "      run_inline_js();\n",
       "    });\n",
       "  }\n",
       "}(window));"
      ],
      "application/vnd.bokehjs_load.v0+json": "\n(function(root) {\n  function now() {\n    return new Date();\n  }\n\n  var force = true;\n\n  if (typeof root._bokeh_onload_callbacks === \"undefined\" || force === true) {\n    root._bokeh_onload_callbacks = [];\n    root._bokeh_is_loading = undefined;\n  }\n\n  \n\n  \n  if (typeof (root._bokeh_timeout) === \"undefined\" || force === true) {\n    root._bokeh_timeout = Date.now() + 5000;\n    root._bokeh_failed_load = false;\n  }\n\n  var NB_LOAD_WARNING = {'data': {'text/html':\n     \"<div style='background-color: #fdd'>\\n\"+\n     \"<p>\\n\"+\n     \"BokehJS does not appear to have successfully loaded. If loading BokehJS from CDN, this \\n\"+\n     \"may be due to a slow or bad network connection. Possible fixes:\\n\"+\n     \"</p>\\n\"+\n     \"<ul>\\n\"+\n     \"<li>re-rerun `output_notebook()` to attempt to load from CDN again, or</li>\\n\"+\n     \"<li>use INLINE resources instead, as so:</li>\\n\"+\n     \"</ul>\\n\"+\n     \"<code>\\n\"+\n     \"from bokeh.resources import INLINE\\n\"+\n     \"output_notebook(resources=INLINE)\\n\"+\n     \"</code>\\n\"+\n     \"</div>\"}};\n\n  function display_loaded() {\n    var el = document.getElementById(\"1253\");\n    if (el != null) {\n      el.textContent = \"BokehJS is loading...\";\n    }\n    if (root.Bokeh !== undefined) {\n      if (el != null) {\n        el.textContent = \"BokehJS \" + root.Bokeh.version + \" successfully loaded.\";\n      }\n    } else if (Date.now() < root._bokeh_timeout) {\n      setTimeout(display_loaded, 100)\n    }\n  }\n\n\n  function run_callbacks() {\n    try {\n      root._bokeh_onload_callbacks.forEach(function(callback) {\n        if (callback != null)\n          callback();\n      });\n    } finally {\n      delete root._bokeh_onload_callbacks\n    }\n    console.debug(\"Bokeh: all callbacks have finished\");\n  }\n\n  function load_libs(css_urls, js_urls, callback) {\n    if (css_urls == null) css_urls = [];\n    if (js_urls == null) js_urls = [];\n\n    root._bokeh_onload_callbacks.push(callback);\n    if (root._bokeh_is_loading > 0) {\n      console.debug(\"Bokeh: BokehJS is being loaded, scheduling callback at\", now());\n      return null;\n    }\n    if (js_urls == null || js_urls.length === 0) {\n      run_callbacks();\n      return null;\n    }\n    console.debug(\"Bokeh: BokehJS not loaded, scheduling load and callback at\", now());\n    root._bokeh_is_loading = css_urls.length + js_urls.length;\n\n    function on_load() {\n      root._bokeh_is_loading--;\n      if (root._bokeh_is_loading === 0) {\n        console.debug(\"Bokeh: all BokehJS libraries/stylesheets loaded\");\n        run_callbacks()\n      }\n    }\n\n    function on_error(url) {\n      console.error(\"failed to load \" + url);\n    }\n\n    for (let i = 0; i < css_urls.length; i++) {\n      const url = css_urls[i];\n      const element = document.createElement(\"link\");\n      element.onload = on_load;\n      element.onerror = on_error.bind(null, url);\n      element.rel = \"stylesheet\";\n      element.type = \"text/css\";\n      element.href = url;\n      console.debug(\"Bokeh: injecting link tag for BokehJS stylesheet: \", url);\n      document.body.appendChild(element);\n    }\n\n    const hashes = {\"https://cdn.bokeh.org/bokeh/release/bokeh-2.3.2.min.js\": \"XypntL49z55iwGVUW4qsEu83zKL3XEcz0MjuGOQ9SlaaQ68X/g+k1FcioZi7oQAc\", \"https://cdn.bokeh.org/bokeh/release/bokeh-tables-2.3.2.min.js\": \"bEsM86IHGDTLCS0Zod8a8WM6Y4+lafAL/eSiyQcuPzinmWNgNO2/olUF0Z2Dkn5i\", \"https://cdn.bokeh.org/bokeh/release/bokeh-widgets-2.3.2.min.js\": \"TX0gSQTdXTTeScqxj6PVQxTiRW8DOoGVwinyi1D3kxv7wuxQ02XkOxv0xwiypcAH\"};\n\n    for (let i = 0; i < js_urls.length; i++) {\n      const url = js_urls[i];\n      const element = document.createElement('script');\n      element.onload = on_load;\n      element.onerror = on_error.bind(null, url);\n      element.async = false;\n      element.src = url;\n      if (url in hashes) {\n        element.crossOrigin = \"anonymous\";\n        element.integrity = \"sha384-\" + hashes[url];\n      }\n      console.debug(\"Bokeh: injecting script tag for BokehJS library: \", url);\n      document.head.appendChild(element);\n    }\n  };\n\n  function inject_raw_css(css) {\n    const element = document.createElement(\"style\");\n    element.appendChild(document.createTextNode(css));\n    document.body.appendChild(element);\n  }\n\n  \n  var js_urls = [\"https://cdn.bokeh.org/bokeh/release/bokeh-2.3.2.min.js\", \"https://cdn.bokeh.org/bokeh/release/bokeh-widgets-2.3.2.min.js\", \"https://cdn.bokeh.org/bokeh/release/bokeh-tables-2.3.2.min.js\"];\n  var css_urls = [];\n  \n\n  var inline_js = [\n    function(Bokeh) {\n      Bokeh.set_log_level(\"info\");\n    },\n    function(Bokeh) {\n    \n    \n    }\n  ];\n\n  function run_inline_js() {\n    \n    if (root.Bokeh !== undefined || force === true) {\n      \n    for (var i = 0; i < inline_js.length; i++) {\n      inline_js[i].call(root, root.Bokeh);\n    }\n    if (force === true) {\n        display_loaded();\n      }} else if (Date.now() < root._bokeh_timeout) {\n      setTimeout(run_inline_js, 100);\n    } else if (!root._bokeh_failed_load) {\n      console.log(\"Bokeh: BokehJS failed to load within specified timeout.\");\n      root._bokeh_failed_load = true;\n    } else if (force !== true) {\n      var cell = $(document.getElementById(\"1253\")).parents('.cell').data().cell;\n      cell.output_area.append_execute_result(NB_LOAD_WARNING)\n    }\n\n  }\n\n  if (root._bokeh_is_loading === 0) {\n    console.debug(\"Bokeh: BokehJS loaded, going straight to plotting\");\n    run_inline_js();\n  } else {\n    load_libs(css_urls, js_urls, function() {\n      console.debug(\"Bokeh: BokehJS plotting callback run at\", now());\n      run_inline_js();\n    });\n  }\n}(window));"
     },
     "metadata": {},
     "output_type": "display_data"
    },
    {
     "data": {
      "text/html": [
       "\n",
       "\n",
       "\n",
       "\n",
       "\n",
       "\n",
       "  <div class=\"bk-root\" id=\"c63224cd-c5f4-4f4c-8fc2-2cd422c3f748\" data-root-id=\"1254\"></div>\n"
      ]
     },
     "metadata": {},
     "output_type": "display_data"
    },
    {
     "data": {
      "application/javascript": [
       "(function(root) {\n",
       "  function embed_document(root) {\n",
       "    \n",
       "  var docs_json = {\"99686315-87f1-4c75-bb51-5b98e877e5c4\":{\"defs\":[],\"roots\":{\"references\":[{\"attributes\":{\"below\":[{\"id\":\"1263\"}],\"center\":[{\"id\":\"1266\"},{\"id\":\"1270\"}],\"height\":400,\"left\":[{\"id\":\"1267\"}],\"renderers\":[{\"id\":\"1288\"}],\"title\":{\"id\":\"1313\"},\"toolbar\":{\"id\":\"1278\"},\"width\":400,\"x_range\":{\"id\":\"1255\"},\"x_scale\":{\"id\":\"1259\"},\"y_range\":{\"id\":\"1257\"},\"y_scale\":{\"id\":\"1261\"}},\"id\":\"1254\",\"subtype\":\"Figure\",\"type\":\"Plot\"},{\"attributes\":{\"data\":{\"x\":[0,9605,690,7000,10403,6000,3000,10000,0,4593,4000,697,2581,7000,0,0,9076,5000,9159,6957,5381,3179,3000,3422,3964,6502,0,7000,0,7931,3648,0,3099,9000,10937,3520,7180,9362,0,9000,6000,4300,2999,4000,4287,0,0,0,7000,7000,3000,0,5000,5000,0,2177,0,1646,3000,225,10876,11000,6255,6716,3000,7837,0,12590,4000,3971,7000,971,5337,21550,0,7000,2918,4000,0,0,13380,5000,14000,0,12729,4686,2785,4000,0,8201,0,5086,5000,3000,0,0,9059,9000,4000,7815,0,4000,13359,10617,0,5000,0,0,2000,0,0,4000,0,0,0,3000,2449,3000,7000,5000,975,2920,8944,18859,525,0,0,13063,465,1335,546,6000,5000,7000,2000,6000,3300,0,5000,9712,6965,4000,649,0,10000,0,7291,6000,705,0,5000,11000,887,0,3707,7022,3000,12443,529,0,948,3000,10000,3354,3536,0,20555,6196,0,0,4000,6904,0,3122,3000,13590,1294,10000,3000,9718,4688,4000,1326,8000,2002,4170,21685,0,16134,0,0,0,635,570,2096,1822,3000,8833,0,4000,4000,13040,7705,4719,0,1600,16359,3000,6000,0,10000,9752,1181,5000,0,13000,10318,3000,0,0,7000,0,0,0,10000,11000,0,0,0,0,0,3478,0,7000,0,2027,10000,6000,0,3000,7000,4000,11151,8055,6892,6953,4582,0,7000,0,2900,7000,0,0,0,10000,7878,5683,3477,8716,14823,7928,0,5577,2081,0,3208,0,1684,0,0,1690,463,0,0,2650,0,5005,11000,8971,2038,4000,0,12918,3000,0,0,6857,0,0,0,0,6985,0,4000,2432,0,1874,0,6226,1387,3155,7713,0,7000,10000,8000,1290,4381,6590,2059,0,14988,0,7000,0,3000,3606,4626,7924,6403,4347,8000,0,4000,0,0,8000,1616,5889,6000,18000,4000,4000,10437,899,1680,6000,2631,0,0,4000,3000,6000,5000,0,6405,2303,6000,0,0,2000,0,549,8322,823,4406,0,17591,1583,0,832,14036,7000,5000,5000,4000,4000,3000,16359,2141,13000,871,4387,1822,8281,3085,0,2462,7000,3066,4000,14000,8000,0,7312,9228,6000,4562,0,1379,0,5013,5000,14664,2000,0,2896,10074,2846,0,8000,4575,8375,0,10345,7000,1906,0,9000,4902,9000,640,1993,5000,9000,0,3000,3418,0,3000,10409,6000,6000,6000,0,0,0,4000,2427,4000,0,0,0,1397,5000,3973,6786,3754,5031,0,54,3000,0,0,0,2473,0,4000,0,3000,3000,2908,5000,4971,5000,20001,5000,0,4000,0,6000,6000,8000,3995,0,3000,6000,0,1951,8000,0,1302,9355,2191,3041,5570,0,8000,5000,5000,5396,6000,0,0,3000,1178,1045,12000,629,1176,1383,3000,4000,0,10738,0,3622,71,5309,4208,5990,0,0,0,10000,5103,0,0,3000,4000,12115,11000,0,7409,138,4000,7000,5917,8000,3540,3854,6818,0,4000,2590,2441,3821,1380,8000,12000,0,3574,0,0,4000,0,10417,6444,7000,7103,8000,0,2001,4903,5623,4000,203,0,0,0,0,4000,7382,5000,5000,5754,5000,769,3000,3316,8621,3139,0,7000,374,0,4000,4000,0,0,0,4000,9000,6000,3975,1630,2321,8038,0,0,0,5000,5251,3000,8404,5611,0,1817,12671,6000,2971,3000,0,3000,0,3000,0,0,3000,3000,5000,3000,3000,0,4088,7235,11184,0,6696,4826,3000,10000,7218,8959,10455,4000,5000,6000,10000,3000,6000,9875,23479,0,0,1836,0,7000,1099,3597,1741,7859,0,0,11088,9816,3700,6000,4000,0,0,8307,7000,0,5000,82,2823,5000,4000,11000,5000,3000,7675,0,7000,6000,0,2519,0,0,3000,0,167,410,0,0,1164,6000,0,14000,0,0,1493,0,0,0,0,7000,0,4433,4914,4000,2695,0,9000,19000,10000,0,0,5919,3634,0,6000,4000,5000,5000,5000,0,9000,0,0,4000,3000,5000,0,0,8311,10031,12071,0,0,0,18868,2436,0,4000,3206,9842,3000,3000,0,3246,6240,8409,0,5000,2000,8000,2665,0,6907,3000,0,4195,0,9000,0,3502,0,6000,7133,6226,4000,22000,2835,0,3889,6167,0,2000,0,0,9000,0,5803,5000,6000,0,4000,7522,4000,4000,0,0,3000,4299,3000,6835,5000,13899,0,0,8897,4000,3000,11060,3000,10057,0,3940,0,0,3000,0,5000,3000,6000,6000,1535,0,776,5000,0,10000,8068,3778,4072,14000,13957,3000,0,3399,5000,310,0,0,400,8000,0,17000,2000,5915,0,5418,6000,3000,8000,5574,0,6000,11776,1663,3000,0,11720,0,9000,7987,2000,4000,7000,8000,4000,3000,0,5790,6000,4000,9155,9034,0,4000,0,0,7000,3620,0,4000,0,23167,0,3000,4615,2119,14000,12718,0,0,1167,5000,0,9000,0,0,0,6453,4563,0,0,6792,7000,3986,5389,0,0,10199,0,12679,0,3262,18704,0,5000,0,5000,6000,0,8828,1663,0,0,2116,939,5000,9000,5000,7113,0,5731,8000,866,8000,6271,2543,3000,4942,5606,1630,2000,7000,5000,7247,907,0,6638,0,12061,0,0,0,12525,6000,3000,3727,3560,4000,3000,4000,9775,2352,0,0,5000,3572,0,7187,7000,0,3856,0,5398,3000,700,3000,9739,0,4036,7000,5000,5000,7000,3000,1363,16077,10370,821,0,0,6000,9000,0,0,7000,4588,0,4202,7000,4017,0,7000,7000,0,0,11792,2904,3000,2105,493,8000,4000,3000,2731,7000,1218,7644,8000,4878,8000,6000,0,3397,3000,4000,0,5000,0,4000,0,0,11404,0,2585,8000,200,7000,3000,6000,0,3000,8773,168,0,3608,7838,828,2441,6931,0,3600,18653,3693,3000,1877,0,7000,8000,4000,2546,4269,6000,0,7064,0,6257,11000,6000,2932,10000,0,0,0,0,1123,7933,6000,6569,0,682,3022,3472,10000,10000,9000,5000,4000,8000,2937,4000,3000,0,3000,1682,0,0,0,0,3122,0,5000,2613,17000,3322,4789,9000,7000,12000,3000,0,4199,0,4000,2782,6000,10096,10000,19000,4000,152,0,4000,0,0,16000,4895,0,5000,4000,6000,0,725,15000,0,8568,0,3000,3811,9000,7000,0,0,0,0,14677,5367,0,8897,3215,7097,5000,9212,3472,4000,0,4692,3000,6000,4041,5315,3000,0,1396,7000,13000,4000,7000,5977,597,10835,4129,5760,16000,1064,0,2922,6288,932,0,3032,4000,10000,3000,3000,5138,0,0,6737,4019,8027,0,0,3000,0,3102,4000,3000,4670,3000,7080,1699,3572,5751,1816,7545,0,0,4000,5206,3000,6800,6000,0,0,5000,0,9000,0,0,5000,2582,5956,4094,0,5490,929,1100,3000,4139,3907,3398,478,4000,10587,4965,5000,1939,4000,3000,4000,6379,13782,0,0,0,3511,0,3499,7808,16846,0,9645,0,0,8000,2358,5000,4000,0,7000,4898,0,3082,8370,5925,3000,4000,10000,0,4000,2413,2100,11000,10667,7589,0,0,7000,0,0,3000,0,758,0,0,3482,0,1945,4000,0,4955,3773,4329,4000,0,10311,6476,2062,0,2534,4000,0,1527,4000,2224,0,4971,11587,10000,4000,8481,0,0,2416,4409,4584,1489,0,3084,5260,11366,0,2000,0,4000,14000,5000,5000,855,6527,8000,0,9000,8000,0,8760,11864,1725,6628,6000,0,0,5000,0,1527,6000,3496,4000,5000,10000,9000,4000,9484,8000,0,6000,0,9935,5000,0,6591,9364,2268,4000,7000,0,2465,0,8692,9387,6000,6000,4000,0,1390,5000,6000,5846,2827,4000,6122,4000,928,6000,13371,0,0,5493,5238,0,5000,5000,5000,1664,12093,0,5932,7188,191,0,6000,3000,13526,7000,2000,0,6000,17000,10831,12000,18147,5609,740,0,4000,0,0,4000,3000,6000,5376,7226,7000,6000,2321,0,13000,1012,11000,2071,0,7000,9000,1942,1027,4000,6477,6000,5632,0,4000,5000,7000,15744,4000,0,0,7069,7000,548,0,1024,3084,0,4003,0,7000,3000,5298,0,0,6000,0,0,5046,1713,8000,2146,3447,3043,0,2471,0,1971,4777,0,6197,18000,0,0,4000,0,3000,5912,2780,7000,0,6000,0,0,0,0,2467,0,0,12628,0,1920,0,5774,4000,5000,0,0,130,3172,2627,6028,3000,0,4000,10579,11000,4000,6000,8352,82,7000,3000,3000,9156,4000,4767,4971,10213,4000,3283,0,545,0,5000,9397,4459,5295,0,10000,6998,5099,0,4000,0,0,3000,0,2550,0,10000,5000,0,5000,6000,13864,4000,8933,3253,0,4000,11000,3000,69,9000,0,3000,0,6729,6763,8000,0,0,8000,6000,7000,10000,2248,3135,0,570,3000,0,4000,624,5571,8000,7000,0,3000,0,3457,4052,5000,6791,5000,11000,0,558,7000,1505,0,12000,4583,3000,4000,0,0,3000,19000,5244,1458,8000,5000,5691,0,1775,0,3188,6577,0,4000,0,3303,4000,0,3000,8000,3441,0,11000,4794,6000,5000,5000,3929,6874,8612,381,4641,3376,8000,2935,6177,0,1398,0,5000,0,4000,2721,5000,2000,0,3336,6000,10000,0,0,1163,447,21000,3214,0,8819,523,5000,4688,0,7094,2880,4956,0,155,8274,0,0,4000,0,3000,0,7653,9000,3090,14000,526,4462,3716,4000,16000,5252,3000,0,0,0,0,12000,0,0,3000,0,2049,4000,6000,5925,3000,0,2212,8866,5000,7000,4567,0,6990,0,0,0,8000,0,3000,0,0,0,3944,4753,0,476,0,12186,7000,9000,0,0,4786,6000,8000,9280,3000,4000,3000,0,2909,4704,14770,927,6781,0,1459,0,7000,7000,4000,0,6000,0,0,16177,3556,0,0,7727,0,5693,9850,182,0,1399,2742,8000,7521,0,0,7000,10537,8000,2000,1027,13304,4000,2000,5000,0,813,5410,3000,0,4159,17000,9155,4143,5000,2691,8000,0,0,0,0,0,7000,3242,5000,12006,11000,8434,7782,4000,0,547,8000,410,4000,4000,341,0,0,3000,5000,2376,7286,0,5000,16333,7000,3297,10000,5000,2853,8000,0,5027,3719,0,3145,0,5000,8000,2686,2330,7433,5000,3000,0,9174,0,8000,0,6780,0,9000,5000,0,1534,886,4000,6000,0,6000,11420,217,0,6542,5000,1485,5095,0,6647,6154,4535,1274,0,3000,0,10768,5000,6000,4000,0,0,0,3000,6000,6000,5828,0,3000,7572,6000,3000,5487,10000,5773,14426,0,0,3000,8072,6139,7000,6000,0,0,3967,5334,0,10010,3457,4000,1419,5000,0,3252,4645,2688,7182,6000,4000,0,0,3085,4275,0,0,0,9000,0,5463,6000,0,4382,9728,0,0,474,11000,5401,5000,0,6000,0,427,4000,2240,1235,1624,11948,16000,5217,4000,13198,14187,1618,6000,0,5000,3000,12000,8000,0,0,3197,12432,0,4000,5000,0,0,12913,0,345,5000,8000,5312,3974,6877,0,8000,4000,3000,5319,5658,0,0,9000,5572,0,5000,0,5000,4003,10000,0,0,5874,9364,2786,4000,5000,0,5000,6926,5428,11000,4000,0,3000,0,9000,5000,1717,0,7038,6064,4000,7000,0,4000,804,5497,0,0,0,12000,2020,3150,5000,0,5382,4000,6000,9000,10231,3000,0,0,5000,7000,4308,7000,16006,0,10000,0,0,3000,9000,1068,986,3000,12090,9000,6000,3716,1385,3327,4000],\"y\":[16,9,11,43,18,9,17,29,38,36,57,5,45,20,19,20,60,14,3,27,18,18,5,8,100,38,2,13,68,100,5,20,35,12,35,3,7,8,22,18,19,32,76,26,18,72,2,66,2,57,16,46,51,17,60,8,6,16,84,72,14,6,58,33,7,9,29,11,16,12,15,20,49,25,17,4,15,42,26,21,15,10,12,94,12,31,88,10,46,46,37,9,13,14,14,28,5,14,5,100,48,9,4,11,36,29,9,100,35,13,19,17,10,64,14,11,17,20,11,28,5,6,26,25,40,4,13,23,100,3,7,63,24,45,20,9,16,26,16,14,20,22,100,22,1,52,6,24,100,20,15,13,50,100,55,20,5,37,49,21,16,16,9,21,7,15,19,24,19,16,2,4,22,12,100,4,18,42,20,11,23,31,35,50,25,10,100,24,22,5,1,10,46,18,4,26,4,70,11,6,82,56,4,11,37,23,20,8,17,6,2,6,12,8,51,3,1,17,21,9,27,26,36,9,40,26,1,5,17,95,12,87,10,12,21,100,43,5,9,6,10,18,4,20,100,11,5,15,7,12,90,9,100,64,7,48,84,18,10,7,89,11,5,39,13,27,50,96,7,37,49,10,6,73,5,9,3,60,26,100,9,54,37,75,15,21,16,50,26,16,72,5,11,13,29,13,36,0,3,13,50,26,7,87,32,15,39,74,8,100,26,2,7,53,8,24,100,57,19,45,18,11,9,43,41,18,5,20,59,28,24,10,4,37,7,22,50,11,3,2,4,10,20,11,19,21,98,7,20,7,37,12,6,3,54,9,31,14,9,50,26,26,8,3,7,8,7,44,6,34,17,72,25,6,11,32,14,15,13,58,36,12,4,11,37,12,16,5,26,13,8,100,5,12,84,3,31,34,9,43,46,11,15,15,100,40,6,6,13,16,35,5,10,100,22,15,4,11,7,100,23,6,4,10,47,11,7,31,9,7,51,43,58,13,8,11,29,78,5,4,66,72,1,18,28,14,42,2,16,32,49,44,84,28,10,22,4,100,31,15,13,32,41,79,34,48,80,11,1,100,7,58,7,5,55,5,20,12,67,52,100,67,58,100,2,11,3,6,14,21,13,11,45,24,69,62,34,6,43,22,5,12,65,1,91,8,51,10,72,37,13,11,57,14,32,17,100,53,100,69,12,37,37,74,68,17,80,100,31,36,19,9,8,7,12,24,67,20,20,34,13,21,67,8,28,23,9,78,5,100,23,18,33,7,8,15,15,11,5,37,34,31,4,16,28,33,37,100,13,100,89,63,2,15,14,15,22,8,17,21,23,46,8,3,3,21,44,82,97,39,37,24,73,4,5,13,100,41,34,5,4,6,60,9,46,17,7,92,100,41,6,8,9,15,9,14,9,26,21,29,22,51,14,29,4,13,17,100,15,64,83,16,19,14,19,3,43,12,83,7,57,11,5,23,24,21,5,19,7,42,20,5,16,44,36,22,18,24,16,8,13,27,16,5,17,58,3,30,31,36,26,14,5,33,36,23,22,28,56,29,73,3,30,100,36,3,100,43,14,4,17,100,16,25,9,24,6,18,23,4,87,13,32,5,48,16,5,24,49,17,10,4,91,14,4,7,25,31,7,20,44,56,27,6,15,12,18,25,8,22,20,88,18,33,7,35,100,83,25,62,59,25,6,20,21,22,7,26,3,97,12,100,10,19,13,14,12,100,61,100,16,5,68,49,18,38,14,17,62,6,46,31,30,18,44,76,41,41,34,10,4,6,26,53,20,9,78,11,38,7,7,29,43,16,26,61,18,3,20,7,1,5,40,7,100,17,8,27,48,58,11,23,18,88,50,52,75,23,4,16,18,70,5,3,52,17,9,22,88,24,16,4,11,8,25,12,100,51,51,13,5,5,3,100,4,7,7,29,13,57,14,35,2,28,8,12,25,16,34,26,81,44,15,7,8,7,29,51,25,20,47,6,54,34,28,23,9,7,69,66,16,66,12,30,15,25,75,13,10,18,89,26,47,13,12,12,37,9,1,3,18,19,27,10,1,10,31,30,3,49,100,14,23,14,22,4,12,12,21,56,8,15,16,27,3,45,11,7,11,25,17,6,21,18,4,9,21,6,12,25,19,100,3,10,11,49,1,13,10,8,22,2,5,15,15,30,19,8,100,4,38,30,37,11,2,71,25,100,39,26,20,18,6,67,29,2,25,33,22,14,30,40,21,53,15,96,9,18,7,8,22,15,34,20,12,27,36,24,33,35,7,85,21,18,51,53,4,54,29,100,29,5,10,69,12,7,5,11,11,4,18,67,13,61,36,45,25,11,6,11,35,27,39,99,14,8,12,6,22,5,4,9,74,97,6,11,36,30,5,8,48,34,29,25,22,5,2,16,74,43,13,22,9,12,100,25,18,100,49,9,47,6,3,75,41,4,41,53,17,14,24,8,13,24,36,6,6,65,22,19,66,24,16,100,9,43,24,33,9,7,42,25,20,8,53,3,21,31,5,7,14,5,20,61,41,100,12,4,29,55,24,9,39,9,26,100,19,5,4,10,8,64,33,43,5,27,32,56,7,9,13,49,10,14,4,10,31,28,22,17,9,48,100,9,46,10,93,65,12,100,32,15,38,4,26,24,57,100,17,8,44,8,23,6,9,16,26,21,10,14,56,2,9,100,2,20,26,27,11,7,7,67,17,14,25,15,43,78,12,6,1,3,83,9,29,1,26,78,51,69,53,74,4,12,16,9,10,61,4,6,17,11,28,5,100,8,5,6,100,68,24,82,26,16,2,5,11,6,100,68,50,6,29,34,51,8,100,20,59,91,9,19,22,24,19,22,26,40,32,100,20,5,4,16,8,46,7,6,14,14,4,9,80,30,18,38,16,5,42,27,4,45,12,33,10,100,32,19,100,31,26,36,26,39,53,22,24,45,26,37,55,18,27,15,8,5,8,56,66,1,13,12,100,21,8,11,34,24,94,25,12,46,31,12,8,7,48,13,52,69,10,2,25,28,25,18,43,17,22,32,19,26,24,32,13,41,29,68,6,10,8,10,14,29,3,9,25,62,3,7,13,20,22,8,66,31,31,62,35,49,15,100,16,5,14,61,18,5,100,30,10,43,13,35,8,2,4,0,65,28,31,21,79,15,29,15,4,39,15,9,100,67,16,32,18,8,31,95,5,44,13,4,39,5,24,57,13,2,10,41,31,29,100,21,34,7,15,19,30,30,8,6,88,20,30,18,17,39,55,22,60,4,31,11,11,19,3,15,21,100,18,14,37,6,8,100,7,57,3,55,33,6,43,100,7,4,11,6,53,47,3,28,1,21,29,22,21,32,55,7,19,28,7,92,20,74,38,7,23,26,37,15,44,4,14,33,22,16,21,17,100,10,42,8,35,26,20,4,9,58,26,18,32,13,34,76,100,7,64,9,23,16,31,4,5,19,12,100,12,10,80,10,22,15,39,14,35,100,39,33,69,47,6,59,9,11,48,100,20,11,20,12,37,13,24,3,100,12,12,45,2,13,7,27,3,14,9,46,51,10,26,35,30,10,10,13,20,11,5,30,73,19,13,5,8,25,22,5,9,16,5,26,14,27,35,6,17,21,30,2,4,20,10,15,10,9,12,4,62,3,64,29,31,50,24,20,13,15,5,19,11,13,5,9,39,4,16,9,30,7,27,41,66,37,90,14,8,56,12,9,10,12,10,9,31,27,100,6,2,7,28,8,78,4,7,15,7,22,61,31,18,11,37,9,40,100,73,21,19,8,10,23,14,25,7,12,39,44,41,28,22,5,43,25,9,9,70,15,37,6,100,13,31,7,25,58,8,25,20,41,2,11,72,3,100,14,5,13,17,25,10,6,17,100,33,9,100,19,21,13,19,35,4,16,5,14,25,11,8,3,6,4,26,23,11,2,71,9,16,21,17,14,15,9,3,43,10,7,4,8,26,5,28,32,23,13,39,34,78,54,16,9,36,100,29,64,57,55,9,11,6,30,34,12,18,22,5,23,22,16,7,17,38,23,23,5,24,13,10,20,15,23,52,100,55,20,5,45,14,42,50,26,15,3,5,23,16,9,3,64,6,31,44,11,7,6,10,6,13,11,35,38,52,43,38,8,43,16,61,10,4,72,100,6,11,20,9,16,9,5,3,12,22,49,15,58,12,16,24,13,77,19,16,38,7,38,14,3,8,31,7,8,5,50,9,4,100,18,2,50,16,32,15,13,27,30,9,9,29,19,64,14,8,6,10,30,65,32,9,1,54,12,86,7,14,59,22,17,41,33,39,3,13,30,50,53,36,10,23,7,28,8,23,6,12,30,6,5,5,28,20,29,7,6,20,88,6,9,12,12,25,59,4,100,38,13,17,26,8,36,18,20,63,19,32,9,7,100,7,5,18,9,16,8,86,13,13,17,11,11,20,3,15,3,34,6,11,13,98,12,4,49,49,41,16,17,18,5,4,24,16,13,5,14,74,14,11,5,80,91,18,8,34,55,19,11,21,5,23,28,6,23,100,22,27,22,2,47,33,32,6,53,16,100,84,13,42,61,11,33]},\"selected\":{\"id\":\"1321\"},\"selection_policy\":{\"id\":\"1320\"}},\"id\":\"1285\",\"type\":\"ColumnDataSource\"},{\"attributes\":{},\"id\":\"1257\",\"type\":\"DataRange1d\"},{\"attributes\":{\"axis_label\":\"balance\",\"formatter\":{\"id\":\"1319\"},\"major_label_policy\":{\"id\":\"1318\"},\"ticker\":{\"id\":\"1264\"}},\"id\":\"1263\",\"type\":\"LinearAxis\"},{\"attributes\":{\"overlay\":{\"id\":\"1277\"}},\"id\":\"1273\",\"type\":\"BoxZoomTool\"},{\"attributes\":{},\"id\":\"1271\",\"type\":\"PanTool\"},{\"attributes\":{},\"id\":\"1276\",\"type\":\"HelpTool\"},{\"attributes\":{},\"id\":\"1320\",\"type\":\"UnionRenderers\"},{\"attributes\":{\"axis\":{\"id\":\"1263\"},\"ticker\":null},\"id\":\"1266\",\"type\":\"Grid\"},{\"attributes\":{},\"id\":\"1319\",\"type\":\"BasicTickFormatter\"},{\"attributes\":{},\"id\":\"1275\",\"type\":\"ResetTool\"},{\"attributes\":{\"active_multi\":null,\"tools\":[{\"id\":\"1271\"},{\"id\":\"1272\"},{\"id\":\"1273\"},{\"id\":\"1274\"},{\"id\":\"1275\"},{\"id\":\"1276\"}]},\"id\":\"1278\",\"type\":\"Toolbar\"},{\"attributes\":{},\"id\":\"1316\",\"type\":\"BasicTickFormatter\"},{\"attributes\":{\"fill_color\":{\"value\":\"#1f77b4\"},\"line_color\":{\"value\":\"#1f77b4\"},\"size\":{\"value\":5},\"x\":{\"field\":\"x\"},\"y\":{\"field\":\"y\"}},\"id\":\"1286\",\"type\":\"Circle\"},{\"attributes\":{\"bottom_units\":\"screen\",\"fill_alpha\":0.5,\"fill_color\":\"lightgrey\",\"left_units\":\"screen\",\"level\":\"overlay\",\"line_alpha\":1.0,\"line_color\":\"black\",\"line_dash\":[4,4],\"line_width\":2,\"right_units\":\"screen\",\"syncable\":false,\"top_units\":\"screen\"},\"id\":\"1277\",\"type\":\"BoxAnnotation\"},{\"attributes\":{},\"id\":\"1259\",\"type\":\"LinearScale\"},{\"attributes\":{},\"id\":\"1315\",\"type\":\"AllLabels\"},{\"attributes\":{},\"id\":\"1321\",\"type\":\"Selection\"},{\"attributes\":{},\"id\":\"1272\",\"type\":\"WheelZoomTool\"},{\"attributes\":{},\"id\":\"1313\",\"type\":\"Title\"},{\"attributes\":{\"axis_label\":\"numTrans\",\"formatter\":{\"id\":\"1316\"},\"major_label_policy\":{\"id\":\"1315\"},\"ticker\":{\"id\":\"1268\"}},\"id\":\"1267\",\"type\":\"LinearAxis\"},{\"attributes\":{},\"id\":\"1255\",\"type\":\"DataRange1d\"},{\"attributes\":{\"fill_alpha\":{\"value\":0.1},\"fill_color\":{\"value\":\"#1f77b4\"},\"line_alpha\":{\"value\":0.1},\"line_color\":{\"value\":\"#1f77b4\"},\"size\":{\"value\":5},\"x\":{\"field\":\"x\"},\"y\":{\"field\":\"y\"}},\"id\":\"1287\",\"type\":\"Circle\"},{\"attributes\":{},\"id\":\"1261\",\"type\":\"LinearScale\"},{\"attributes\":{\"source\":{\"id\":\"1285\"}},\"id\":\"1289\",\"type\":\"CDSView\"},{\"attributes\":{},\"id\":\"1274\",\"type\":\"SaveTool\"},{\"attributes\":{},\"id\":\"1264\",\"type\":\"BasicTicker\"},{\"attributes\":{},\"id\":\"1318\",\"type\":\"AllLabels\"},{\"attributes\":{\"data_source\":{\"id\":\"1285\"},\"glyph\":{\"id\":\"1286\"},\"hover_glyph\":null,\"muted_glyph\":null,\"nonselection_glyph\":{\"id\":\"1287\"},\"view\":{\"id\":\"1289\"}},\"id\":\"1288\",\"type\":\"GlyphRenderer\"},{\"attributes\":{},\"id\":\"1268\",\"type\":\"BasicTicker\"},{\"attributes\":{\"axis\":{\"id\":\"1267\"},\"dimension\":1,\"ticker\":null},\"id\":\"1270\",\"type\":\"Grid\"}],\"root_ids\":[\"1254\"]},\"title\":\"Bokeh Application\",\"version\":\"2.3.2\"}};\n",
       "  var render_items = [{\"docid\":\"99686315-87f1-4c75-bb51-5b98e877e5c4\",\"root_ids\":[\"1254\"],\"roots\":{\"1254\":\"c63224cd-c5f4-4f4c-8fc2-2cd422c3f748\"}}];\n",
       "  root.Bokeh.embed.embed_items_notebook(docs_json, render_items);\n",
       "\n",
       "  }\n",
       "  if (root.Bokeh !== undefined) {\n",
       "    embed_document(root);\n",
       "  } else {\n",
       "    var attempts = 0;\n",
       "    var timer = setInterval(function(root) {\n",
       "      if (root.Bokeh !== undefined) {\n",
       "        clearInterval(timer);\n",
       "        embed_document(root);\n",
       "      } else {\n",
       "        attempts++;\n",
       "        if (attempts > 100) {\n",
       "          clearInterval(timer);\n",
       "          console.log(\"Bokeh: ERROR: Unable to run BokehJS code because BokehJS library is missing\");\n",
       "        }\n",
       "      }\n",
       "    }, 10, root)\n",
       "  }\n",
       "})(window);"
      ],
      "application/vnd.bokehjs_exec.v0+json": ""
     },
     "metadata": {
      "application/vnd.bokehjs_exec.v0+json": {
       "id": "1254"
      }
     },
     "output_type": "display_data"
    }
   ],
   "source": [
    "# 散布グラフ\n",
    "\n",
    "# 散布グラフを使うと最大で3つの変数間の関係を一度に可視化できる。\n",
    "# ただし、時系列データを扱い、時間の経過に伴う変化を観察したい場合を除けば、3Dで可視化することは滅多にない。\n",
    "# 時系列データを扱う場合でも時系列データを区分けして、一連の2Dグラフとして見せるやり方もある。\n",
    "# 3Dのグラフは複雑であり、多くの場合混乱を招く\n",
    "\n",
    "# 数十億のデータをプロットするのは現実的では無い場合サンプリングする\n",
    "\n",
    "from bokeh.plotting import figure, output_file, show\n",
    "from bokeh.io import output_notebook\n",
    "\n",
    "# jupyter で表示する用\n",
    "output_notebook()\n",
    "\n",
    "sampled = df.sampleBy('gender', {1: 0.0002, 2: 0.0002}).select(numerical)\n",
    "multi_data = {\n",
    "    element: sampled.select(element).rdd.flatMap(lambda row: row).collect()\n",
    "    for element in ['balance', 'numTrans']\n",
    "}\n",
    "\n",
    "figure_plot = figure(\n",
    "    x_axis_label='balance',\n",
    "    y_axis_label='numTrans',\n",
    "    plot_width=400,\n",
    "    plot_height=400\n",
    ")\n",
    "figure_plot.circle(x=multi_data['balance'], y=multi_data['numTrans'], size=5)\n",
    "show(figure_plot)\n",
    "\n",
    "# 残高0 のトランザクションが多くみられる"
   ]
  },
  {
   "cell_type": "code",
   "execution_count": null,
   "id": "ea7eb4b6",
   "metadata": {},
   "outputs": [],
   "source": []
  }
 ],
 "metadata": {
  "kernelspec": {
   "display_name": "Python 3",
   "language": "python",
   "name": "python3"
  },
  "language_info": {
   "codemirror_mode": {
    "name": "ipython",
    "version": 3
   },
   "file_extension": ".py",
   "mimetype": "text/x-python",
   "name": "python",
   "nbconvert_exporter": "python",
   "pygments_lexer": "ipython3",
   "version": "3.7.10"
  }
 },
 "nbformat": 4,
 "nbformat_minor": 5
}
